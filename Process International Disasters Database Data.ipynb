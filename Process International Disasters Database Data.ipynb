{
 "cells": [
  {
   "cell_type": "code",
   "execution_count": 5,
   "id": "e7b5e600",
   "metadata": {},
   "outputs": [],
   "source": [
    "import numpy as np\n",
    "import pandas as pd\n",
    "import janitor\n",
    "import matplotlib.pyplot as plt "
   ]
  },
  {
   "cell_type": "code",
   "execution_count": 8,
   "id": "36007daf",
   "metadata": {},
   "outputs": [
    {
     "data": {
      "text/plain": [
       "Index(['Dis No', 'Year', 'Seq', 'Glide', 'Disaster Group', 'Disaster Subgroup',\n",
       "       'Disaster Type', 'Disaster Subtype', 'Disaster Subsubtype',\n",
       "       'Event Name', 'Country', 'ISO', 'Region', 'Continent', 'Location',\n",
       "       'Origin', 'Associated Dis', 'Associated Dis2', 'OFDA Response',\n",
       "       'Appeal', 'Declaration', 'AID Contribution ('000 US$)', 'Dis Mag Value',\n",
       "       'Dis Mag Scale', 'Latitude', 'Longitude', 'Local Time', 'River Basin',\n",
       "       'Start Year', 'Start Month', 'Start Day', 'End Year', 'End Month',\n",
       "       'End Day', 'Total Deaths', 'No Injured', 'No Affected', 'No Homeless',\n",
       "       'Total Affected', 'Reconstruction Costs ('000 US$)',\n",
       "       'Reconstruction Costs, Adjusted ('000 US$)',\n",
       "       'Insured Damages ('000 US$)', 'Insured Damages, Adjusted ('000 US$)',\n",
       "       'Total Damages ('000 US$)', 'Total Damages, Adjusted ('000 US$)', 'CPI',\n",
       "       'Adm Level', 'Admin1 Code', 'Admin2 Code', 'Geo Locations'],\n",
       "      dtype='object')"
      ]
     },
     "execution_count": 8,
     "metadata": {},
     "output_type": "execute_result"
    }
   ],
   "source": [
    "data = pd.read_csv('global disasters.csv')\n",
    "data.columns"
   ]
  },
  {
   "cell_type": "code",
   "execution_count": 9,
   "id": "b7aed5a8",
   "metadata": {},
   "outputs": [],
   "source": [
    "totalaffected = data[[\"Total Affected\", \"Year\", \"Country\",\"Disaster Type\"]]\n",
    "totalaffected.to_csv('totalaffected.csv')\n"
   ]
  },
  {
   "cell_type": "code",
   "execution_count": 7,
   "id": "1078a9dd",
   "metadata": {},
   "outputs": [],
   "source": [
    "intensity = data[[\"Total Affected\", \"Year\", \"Country\",\"Disaster Type\"]] #WHAT I ORIGINALLY SUMMED WITHOUT IMPUTING\n",
    "\n",
    "\n",
    "intensity_grouped = intensity.groupby([\"Country\",\"Year\"])\n",
    "x = intensity_grouped[\"Total Affected\"].sum()\n",
    "\n",
    "x= x.reset_index()\n",
    "x = x[(x[\"Year\"]>=1970)&(x[\"Year\"]<=2020)]\n",
    "dates = {\"Year\": lambda df: range(1970, 2020 + 1)}\n",
    "r = x.complete(dates, by=\"Country\", sort=True).fillna({\"Total Affected\": 0})\n",
    "#r.to_csv('intensity.csv')\n",
    "#x[\"Total Affected\"].count()/12125 #73 percent available data"
   ]
  },
  {
   "cell_type": "code",
   "execution_count": 34,
   "id": "e25b60d3",
   "metadata": {},
   "outputs": [],
   "source": [
    "intensity_by_disaster = data[[\"Total Affected\", \"Year\", \"Country\", \"Disaster Type\"]] #what i imputed\n",
    "\n",
    "#intensity_by_disaster.to_csv('intensitygrouped.csv')"
   ]
  },
  {
   "cell_type": "code",
   "execution_count": 36,
   "id": "a312ceaa",
   "metadata": {},
   "outputs": [],
   "source": [
    "#COMPUTING PERCENTAGES\n",
    "\n",
    "data = pd.read_csv('population.csv')\n",
    "countries = data[\"Country Name\"].unique()\n",
    "years = data.columns[4::]\n",
    "years = years.astype(int)\n",
    "minimum = years[0]\n",
    "maximum = years[-1]\n",
    "data.drop(data.columns[[0,1,2,3]], axis=1, inplace=True)\n",
    "data = data.T\n",
    "data = data.melt().drop('variable',axis=1).rename({'value':'Population'},axis=1)\n",
    "data\n",
    "Country = np.repeat(countries,len(years))\n",
    "data[\"Country\"] = Country \n",
    "Year = np.tile(range(minimum, maximum+1,1),len(countries))\n",
    "data[\"Year\"] = Year\n",
    "data = data[(data[\"Year\"]>=1970)&(data[\"Year\"]<=2020)] \n",
    "\n",
    "disasters = intensity_by_disaster\n",
    "confounds = data\n",
    "\n",
    "disasters['Country'].replace('Congo (the Democratic Republic of the)', 'Democratic Republic of the Congo', inplace=True)\n",
    "disasters['Country'].replace('Congo (the)', 'Republic of the Congo', inplace=True)\n",
    "disasters['Country'].replace('Korea (the Republic of)', 'South Korea', inplace=True)\n",
    "disasters['Country'].replace(\"Korea (the Democratic People's Republic of)\", 'North Korea', inplace=True)\n",
    "disasters['Country'] = disasters['Country'].str.replace(r\"\\s*\\([^)]*\\)\", \"\", regex=True)\n",
    "disasters['Country'].replace('Palestine, State of', 'Palestine', inplace=True)\n",
    "disasters['Country'].replace(\"Russian Federation\", 'Russia', inplace=True)\n",
    "disasters['Country'].replace(\"United States of America\", 'United States', inplace=True)\n",
    "disasters['Country'].replace(\"United Kingdom of Great Britain and Northern Ireland\", 'United Kingdom', inplace=True)\n",
    "disasters['Country'].replace(\"Viet Nam\", 'Vietnam', inplace=True)\n",
    "disasters['Country'].replace(\"Tanzania, United Republic of\", 'Tanzania', inplace=True)\n",
    "disasters['Country'].replace(\"Yemen Arab Rep\", 'Yemen', inplace=True)\n",
    "disasters['Country'].replace(\"Yemen P Dem Rep\", 'Yemen', inplace=True)\n",
    "disasters['Country'].replace(\"Côte d’Ivoire\", \"Cote d'Ivoire\", inplace=True)\n",
    "disasters['Country'].replace(\"Taiwan (Province of China)\", \"Taiwan\", inplace=True)\n",
    "disasters['Country'].replace(\"Syrian Arab Republic\", \"Syria\", inplace=True)\n",
    "disasters['Country'].replace(\"Lao People's Democratic Republic\", \"Laos\", inplace=True)\n",
    "\n",
    "confounds['Country'].replace('Bahamas, The', 'Bahamas', inplace=True)\n",
    "confounds['Country'].replace('Congo, Dem. Rep.', 'Democratic Republic of the Congo', inplace=True)\n",
    "confounds['Country'].replace('Congo, Rep.', 'Republic of the Congo', inplace=True)\n",
    "confounds['Country'].replace('Czechia', 'Czech Republic', inplace=True)\n",
    "confounds['Country'].replace('Egypt, Arab Rep.', 'Egypt', inplace=True)\n",
    "confounds['Country'].replace('Gambia, The', 'Gambia', inplace=True)\n",
    "confounds['Country'].replace('Iran, Islamic Rep.', 'Iran', inplace=True)\n",
    "confounds['Country'].replace(\"Korea, Dem. People's Rep.\",'North Korea', inplace=True)\n",
    "confounds['Country'].replace(\"Korea, Rep.\",'South Korea', inplace=True)\n",
    "confounds['Country'].replace(\"Kyrgyz Republic\",'Kyrgyzstan', inplace=True)\n",
    "confounds['Country'].replace(\"Lao PDR\",'Laos', inplace=True)\n",
    "confounds['Country'].replace(\"North Macedonia\",'Macedonia', inplace=True)\n",
    "confounds['Country'].replace(\"Russian Federation\",'Russia', inplace=True)\n",
    "confounds['Country'].replace(\"Slovak Republic\",'Slovakia', inplace=True)\n",
    "confounds['Country'].replace(\"St. Kitts and Nevis\",'Saint Kitts and Nevis', inplace=True)\n",
    "confounds['Country'].replace(\"St. Lucia\",'Saint Lucia', inplace=True)\n",
    "confounds['Country'].replace(\"Hong Kong SAR, China\",'Hong Kong', inplace=True)\n",
    "confounds['Country'].replace(\"Turkiye\",'Turkey', inplace=True)\n",
    "confounds['Country'].replace(\"Venezuela, RB\",'Venezuela', inplace=True)\n",
    "confounds['Country'].replace(\"West Bank and Gaza\",'Palestine', inplace=True)\n",
    "confounds['Country'].replace(\"Yemen, Rep.\",'Yemen', inplace=True)\n",
    "confounds['Country'].replace('Syrian Arab Republic','Syria', inplace=True)\n",
    "confounds['Country'].replace('Micronesia, Fed. Sts.','Micronesia', inplace=True)\n",
    "confounds['Country'].replace('St. Vincent and the Grenadines','Saint Vincent and the Grenadines', inplace=True)\n",
    "\n",
    "remove_confounds = ['Africa Eastern and Southern', 'Africa Western and Central','Early-demographic dividend', 'East Asia & Pacific',\n",
    "           'East Asia & Pacific (IDA & IBRD countries)',\n",
    "           'East Asia & Pacific (excluding high income)','Euro area', 'Europe & Central Asia',\n",
    "           'Europe & Central Asia (IDA & IBRD countries)',\n",
    "           'Europe & Central Asia (excluding high income)', 'European Union','Fragile and conflict affected situations','Heavily indebted poor countries (HIPC)', 'High income',\n",
    "    'IBRD only', 'IDA & IBRD total',\n",
    "           'IDA blend', 'IDA only', 'IDA total', 'Late-demographic dividend',\n",
    "           'Latin America & Caribbean',\n",
    "           'Latin America & Caribbean (excluding high income)',\n",
    "           'Latin America & the Caribbean (IDA & IBRD countries)',\n",
    "           'Least developed countries: UN classification', 'Liechtenstein',\n",
    "           'Low & middle income', 'Low income', 'Lower middle income','Middle East & North Africa',\n",
    "           'Middle East & North Africa (IDA & IBRD countries)',\n",
    "           'Middle East & North Africa (excluding high income)',\n",
    "           'Middle income','Not classified', 'OECD members',\n",
    "           'Other small states','British Virgin Islands','Channel Islands', 'Curacao','Gibraltar','Pacific island small states','Post-demographic dividend', 'Pre-demographic dividend',\n",
    "    'Small states','Faroe Islands', 'South Asia', 'South Asia (IDA & IBRD)', 'Sub-Saharan Africa',\n",
    "           'Sub-Saharan Africa (IDA & IBRD countries)','San Marino',\n",
    "           'Sub-Saharan Africa (excluding high income)',\"Kosovo\",\"North America\",'Macao SAR, China','Sint Maarten (Dutch part)',\"Virgin Islands (U.S.)\",\"St. Martin (French part)\",'Central Europe and the Baltics','Upper middle income','World', \"Arab World\", \"Caribbean small states\", \"Central Europe and the Baltics, North America\"]\n",
    "\n",
    "exclude = ['Germany Dem Rep','Germany Fed Rep','Netherlands Antilles','French Guiana',\"Anguilla\", 'Azores Islands','Canary Is',\"Cook Islands\",'Czechoslovakia',\"Guadeloupe\",\"Macao\",\"Montserrat\"\n",
    "              ,\"Niue\",'Réunion',\"Saint Barthélemy\",'Saint Helena, Ascension and Tristan da Cunha','Saint Martin','Serbia Montenegro','Soviet Union',\n",
    "              'Tokelau', 'Virgin Island', 'Wallis and Futuna', 'Yugoslavia','Sint Maarten']\n",
    "\n",
    "confounds = confounds.loc[~confounds['Country'].isin(remove_confounds)]\n",
    "disasters = disasters.loc[~disasters['Country'].isin(exclude)]\n",
    "\n",
    "new = pd.merge(disasters,confounds, how=\"outer\", left_on=[\"Country\", \"Year\"],right_on=[\"Country\", \"Year\"])\n",
    "new.to_csv(\"INTENSITY_W_POPULATION.csv\")"
   ]
  },
  {
   "cell_type": "code",
   "execution_count": 4,
   "id": "9d492f1a",
   "metadata": {},
   "outputs": [],
   "source": [
    "data1 = data[(data[\"Year\"]>=1970) & (data[\"Year\"]<=2020)]\n",
    "continents = dict(zip(data1.Country, data1.Continent))"
   ]
  },
  {
   "cell_type": "code",
   "execution_count": 5,
   "id": "d8474f5b",
   "metadata": {
    "scrolled": true
   },
   "outputs": [],
   "source": [
    "#making the country, year, frequency dataframe\n",
    "countrygrouped = data1.groupby(\"Country\",sort=False,dropna=False)\n",
    "yearcountry = countrygrouped[\"Year\"].value_counts()\n",
    "data2 = pd.DataFrame(yearcountry)\n",
    "data2 = data2.rename(columns={\"Year\": \"Frequency\"})\n",
    "data2 = data2.reset_index()\n",
    "data2 = data2.sort_values(by = [\"Country\",\"Year\"])\n",
    "\n",
    "countries = data2[\"Country\"].unique()\n",
    "\n",
    "# create dictionary for new dates\n",
    "dates = {\"Year\": lambda df: range(1970, 2020 + 1)}\n",
    "\n",
    "data2 = data2.complete(dates, by=\"Country\", sort=True).fillna({\"Frequency\": 0})\n",
    "data2[\"Continent\"]=data2.Country.replace(continents)"
   ]
  },
  {
   "cell_type": "code",
   "execution_count": 6,
   "id": "791d4d13",
   "metadata": {},
   "outputs": [],
   "source": [
    "data2.to_csv('frequency')"
   ]
  },
  {
   "cell_type": "code",
   "execution_count": 8,
   "id": "0b504f8b",
   "metadata": {},
   "outputs": [
    {
     "data": {
      "text/plain": [
       "<AxesSubplot:title={'center':'Natural Disasters by Year'}, xlabel='Year', ylabel='Number of Natural Disasters'>"
      ]
     },
     "execution_count": 8,
     "metadata": {},
     "output_type": "execute_result"
    },
    {
     "data": {
      "image/png": "[encoded data removed]",
      "text/plain": [
       "<Figure size 432x288 with 1 Axes>"
      ]
     },
     "metadata": {
      "needs_background": "light"
     },
     "output_type": "display_data"
    }
   ],
   "source": [
    "disasters = pd.read_csv('frequency.csv')\n",
    "grouped = disasters.groupby(\"Year\")\n",
    "byyear = grouped[\"Frequency\"].sum()\n",
    "plt.xlabel(\"Year\")\n",
    "plt.ylabel(\"Number of Natural Disasters\")\n",
    "plt.title(\"Natural Disasters by Year\")\n",
    "byyear.plot.line()"
   ]
  },
  {
   "cell_type": "code",
   "execution_count": null,
   "id": "24e61132",
   "metadata": {},
   "outputs": [],
   "source": []
  },
  {
   "cell_type": "code",
   "execution_count": null,
   "id": "3ad44a57",
   "metadata": {},
   "outputs": [],
   "source": []
  }
 ],
 "metadata": {
  "kernelspec": {
   "display_name": "Python 3 (ipykernel)",
   "language": "python",
   "name": "python3"
  },
  "language_info": {
   "codemirror_mode": {
    "name": "ipython",
    "version": 3
   },
   "file_extension": ".py",
   "mimetype": "text/x-python",
   "name": "python",
   "nbconvert_exporter": "python",
   "pygments_lexer": "ipython3",
   "version": "3.11.5"
  }
 },
 "nbformat": 4,
 "nbformat_minor": 5
}
