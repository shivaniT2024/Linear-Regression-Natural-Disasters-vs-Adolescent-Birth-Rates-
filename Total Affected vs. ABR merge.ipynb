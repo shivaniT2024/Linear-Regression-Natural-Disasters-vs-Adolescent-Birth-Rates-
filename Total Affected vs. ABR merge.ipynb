{
 "cells": [
  {
   "cell_type": "code",
   "execution_count": 5,
   "id": "7e54941c",
   "metadata": {},
   "outputs": [],
   "source": [
    "import pandas as pd\n",
    "import numpy as np\n",
    "import re"
   ]
  },
  {
   "cell_type": "code",
   "execution_count": null,
   "id": "7ff401c0",
   "metadata": {},
   "outputs": [],
   "source": []
  },
  {
   "cell_type": "code",
   "execution_count": 6,
   "id": "eee09b07",
   "metadata": {},
   "outputs": [],
   "source": [
    "def merge(x):\n",
    "    disasters = pd.read_csv(x)\n",
    "    confounds = pd.read_csv('ConfoundsRaw.csv')\n",
    "\n",
    "    disasters['Country'].replace('Congo (the Democratic Republic of the)', 'Democratic Republic of the Congo', inplace=True)\n",
    "    disasters['Country'].replace('Congo (the)', 'Republic of the Congo', inplace=True)\n",
    "    disasters['Country'].replace('Korea (the Republic of)', 'South Korea', inplace=True)\n",
    "    disasters['Country'].replace(\"Korea (the Democratic People's Republic of)\", 'North Korea', inplace=True)\n",
    "    disasters['Country'] = disasters['Country'].str.replace(r\"\\s*\\([^)]*\\)\", \"\", regex=True)\n",
    "    disasters['Country'].replace('Palestine, State of', 'Palestine', inplace=True)\n",
    "    disasters['Country'].replace(\"Russian Federation\", 'Russia', inplace=True)\n",
    "    disasters['Country'].replace(\"United States of America\", 'United States', inplace=True)\n",
    "    disasters['Country'].replace(\"United Kingdom of Great Britain and Northern Ireland\", 'United Kingdom', inplace=True)\n",
    "    disasters['Country'].replace(\"Viet Nam\", 'Vietnam', inplace=True)\n",
    "    disasters['Country'].replace(\"Tanzania, United Republic of\", 'Tanzania', inplace=True)\n",
    "    disasters['Country'].replace(\"Yemen Arab Rep\", 'Yemen', inplace=True)\n",
    "    disasters['Country'].replace(\"Yemen P Dem Rep\", 'Yemen', inplace=True)\n",
    "    disasters['Country'].replace(\"Côte d’Ivoire\", \"Cote d'Ivoire\", inplace=True)\n",
    "    disasters['Country'].replace(\"Taiwan (Province of China)\", \"Taiwan\", inplace=True)\n",
    "    disasters['Country'].replace(\"Syrian Arab Republic\", \"Syria\", inplace=True)\n",
    "    disasters['Country'].replace(\"Lao People's Democratic Republic\", \"Laos\", inplace=True)\n",
    "\n",
    "    confounds['Country'].replace('Bahamas, The', 'Bahamas', inplace=True)\n",
    "    confounds['Country'].replace('Congo, Dem. Rep.', 'Democratic Republic of the Congo', inplace=True)\n",
    "    confounds['Country'].replace('Congo, Rep.', 'Republic of the Congo', inplace=True)\n",
    "    confounds['Country'].replace('Czechia', 'Czech Republic', inplace=True)\n",
    "    confounds['Country'].replace('Egypt, Arab Rep.', 'Egypt', inplace=True)\n",
    "    confounds['Country'].replace('Gambia, The', 'Gambia', inplace=True)\n",
    "    confounds['Country'].replace('Iran, Islamic Rep.', 'Iran', inplace=True)\n",
    "    confounds['Country'].replace(\"Korea, Dem. People's Rep.\",'North Korea', inplace=True)\n",
    "    confounds['Country'].replace(\"Korea, Rep.\",'South Korea', inplace=True)\n",
    "    confounds['Country'].replace(\"Kyrgyz Republic\",'Kyrgyzstan', inplace=True)\n",
    "    confounds['Country'].replace(\"Lao PDR\",'Laos', inplace=True)\n",
    "    confounds['Country'].replace(\"North Macedonia\",'Macedonia', inplace=True)\n",
    "    confounds['Country'].replace(\"Russian Federation\",'Russia', inplace=True)\n",
    "    confounds['Country'].replace(\"Slovak Republic\",'Slovakia', inplace=True)\n",
    "    confounds['Country'].replace(\"St. Kitts and Nevis\",'Saint Kitts and Nevis', inplace=True)\n",
    "    confounds['Country'].replace(\"St. Lucia\",'Saint Lucia', inplace=True)\n",
    "    confounds['Country'].replace(\"Hong Kong SAR, China\",'Hong Kong', inplace=True)\n",
    "    confounds['Country'].replace(\"Turkiye\",'Turkey', inplace=True)\n",
    "    confounds['Country'].replace(\"Venezuela, RB\",'Venezuela', inplace=True)\n",
    "    confounds['Country'].replace(\"West Bank and Gaza\",'Palestine', inplace=True)\n",
    "    confounds['Country'].replace(\"Yemen, Rep.\",'Yemen', inplace=True)\n",
    "    confounds['Country'].replace('Syrian Arab Republic','Syria', inplace=True)\n",
    "    confounds['Country'].replace('Micronesia, Fed. Sts.','Micronesia', inplace=True)\n",
    "    confounds['Country'].replace('St. Vincent and the Grenadines','Saint Vincent and the Grenadines', inplace=True)\n",
    "\n",
    "    remove_confounds = ['Africa Eastern and Southern', 'Africa Western and Central','Early-demographic dividend', 'East Asia & Pacific',\n",
    "           'East Asia & Pacific (IDA & IBRD countries)',\n",
    "           'East Asia & Pacific (excluding high income)','Euro area', 'Europe & Central Asia',\n",
    "           'Europe & Central Asia (IDA & IBRD countries)',\n",
    "           'Europe & Central Asia (excluding high income)', 'European Union','Fragile and conflict affected situations','Heavily indebted poor countries (HIPC)', 'High income',\n",
    "    'IBRD only', 'IDA & IBRD total',\n",
    "           'IDA blend', 'IDA only', 'IDA total', 'Late-demographic dividend',\n",
    "           'Latin America & Caribbean',\n",
    "           'Latin America & Caribbean (excluding high income)',\n",
    "           'Latin America & the Caribbean (IDA & IBRD countries)',\n",
    "           'Least developed countries: UN classification', 'Liechtenstein',\n",
    "           'Low & middle income', 'Low income', 'Lower middle income','Middle East & North Africa',\n",
    "           'Middle East & North Africa (IDA & IBRD countries)',\n",
    "           'Middle East & North Africa (excluding high income)',\n",
    "           'Middle income','Not classified', 'OECD members',\n",
    "           'Other small states','British Virgin Islands','Channel Islands', 'Curacao','Gibraltar','Pacific island small states','Post-demographic dividend', 'Pre-demographic dividend',\n",
    "    'Small states','Faroe Islands', 'South Asia', 'South Asia (IDA & IBRD)', 'Sub-Saharan Africa',\n",
    "           'Sub-Saharan Africa (IDA & IBRD countries)','San Marino',\n",
    "           'Sub-Saharan Africa (excluding high income)',\"Kosovo\",\"North America\",'Macao SAR, China','Sint Maarten (Dutch part)',\"Virgin Islands (U.S.)\",\"St. Martin (French part)\",'Central Europe and the Baltics','Upper middle income','World', \"Arab World\", \"Caribbean small states\", \"Central Europe and the Baltics, North America\"]\n",
    "\n",
    "    exclude = ['Germany Dem Rep','Germany Fed Rep','Netherlands Antilles','French Guiana',\"Anguilla\", 'Azores Islands','Canary Is',\"Cook Islands\",'Czechoslovakia',\"Guadeloupe\",\"Macao\",\"Montserrat\"\n",
    "              ,\"Niue\",'Réunion',\"Saint Barthélemy\",'Saint Helena, Ascension and Tristan da Cunha','Saint Martin','Serbia Montenegro','Soviet Union',\n",
    "              'Tokelau', 'Virgin Island', 'Wallis and Futuna', 'Yugoslavia','Sint Maarten']\n",
    "\n",
    "    confounds = confounds.loc[~confounds['Country'].isin(remove_confounds)]\n",
    "    disasters = disasters.loc[~disasters['Country'].isin(exclude)]\n",
    "\n",
    "    intensitymerged = pd.merge(disasters,confounds, how=\"outer\", left_on=[\"Country\", \"Year\"],right_on=[\"Country\", \"Year\"])\n",
    "    return intensitymerged\n",
    "\n",
    "    "
   ]
  },
  {
   "cell_type": "code",
   "execution_count": null,
   "id": "ec9a4713",
   "metadata": {},
   "outputs": [],
   "source": []
  },
  {
   "cell_type": "code",
   "execution_count": 7,
   "id": "33ad794c",
   "metadata": {
    "scrolled": true
   },
   "outputs": [],
   "source": [
    "vector = [\"TotalAffected1ReadyForMerging.csv\", \"TotalAffected2ReadyForMerging.csv\",\"TotalAffected3ReadyForMerging.csv\", \"TotalAffected4ReadyForMerging.csv\", \"TotalAffected5ReadyForMerging.csv\" ]\n",
    "\n",
    "for i in vector:\n",
    "    a = merge(i)\n",
    "    string = str(i)\n",
    "    match = re.search(r\".*?\\d\", string)\n",
    "    if match:\n",
    "        captured = match.group()\n",
    "    a.to_csv('total affected regressions\\\\'+captured+'regression.csv')"
   ]
  },
  {
   "cell_type": "code",
   "execution_count": null,
   "id": "988306f2",
   "metadata": {},
   "outputs": [],
   "source": []
  }
 ],
 "metadata": {
  "kernelspec": {
   "display_name": "Python 3 (ipykernel)",
   "language": "python",
   "name": "python3"
  },
  "language_info": {
   "codemirror_mode": {
    "name": "ipython",
    "version": 3
   },
   "file_extension": ".py",
   "mimetype": "text/x-python",
   "name": "python",
   "nbconvert_exporter": "python",
   "pygments_lexer": "ipython3",
   "version": "3.11.5"
  }
 },
 "nbformat": 4,
 "nbformat_minor": 5
}
