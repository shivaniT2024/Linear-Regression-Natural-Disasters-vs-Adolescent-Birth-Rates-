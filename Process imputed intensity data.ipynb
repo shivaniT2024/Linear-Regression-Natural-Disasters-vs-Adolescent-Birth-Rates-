{
 "cells": [
  {
   "cell_type": "code",
   "execution_count": 1,
   "id": "fb18a51b",
   "metadata": {},
   "outputs": [],
   "source": [
    "import pandas as pd\n",
    "import numpy as np\n",
    "import janitor\n",
    "import matplotlib.pyplot as plt "
   ]
  },
  {
   "cell_type": "code",
   "execution_count": 3,
   "id": "7988edd7",
   "metadata": {},
   "outputs": [],
   "source": [
    "#all disasters\n",
    "\n",
    "vector = [\"totalaffectedimputation1.csv\", \"totalaffectedimputation2.csv\", \"totalaffectedimputation3.csv\", \"totalaffectedimputation4.csv\", \"totalaffectedimputation5.csv\"]\n",
    "\n",
    "\n",
    "b=1\n",
    "for i in vector:\n",
    "    imputation1 =  pd.read_csv(i)\n",
    "    x = imputation1.groupby([\"Country\", \"Year\"])[\"Total.Affected\"].sum().reset_index()\n",
    "    dates = {\"Year\": lambda df: range(1970, 2020 + 1)}\n",
    "    r = x.complete(dates, by=[\"Country\"], sort=True).fillna({\"Total.Affected\": 0})\n",
    "    r.to_csv('TotalAffected'+ str(b)+ 'ReadyForMerging.csv')\n",
    "    b+=1\n",
    "    \n"
   ]
  },
  {
   "cell_type": "code",
   "execution_count": 2,
   "id": "32d0a96d",
   "metadata": {},
   "outputs": [],
   "source": [
    "#floods\n",
    "vector = [\"floods1imputed.csv\", \"floods2imputed.csv\", \"floods3imputed.csv\", \"floods4imputed.csv\",\"floods5imputed.csv\"]\n",
    "\n",
    "def convert(vector):\n",
    "    b=1\n",
    "    for i in vector:\n",
    "        imputation1 =  pd.read_csv(i)\n",
    "        x = imputation1.groupby([\"Country\", \"Year\"])[\"Total.Affected\"].sum().reset_index()\n",
    "        dates = {\"Year\": lambda df: range(1970, 2020 + 1)}\n",
    "        r = x.complete(dates, by=[\"Country\"], sort=True).fillna({\"Total.Affected\": 0})\n",
    "        r.to_csv('Floods'+ str(b)+ 'ReadyForMerging.csv')\n",
    "        b+=1\n"
   ]
  },
  {
   "cell_type": "code",
   "execution_count": 7,
   "id": "24af252d",
   "metadata": {},
   "outputs": [],
   "source": [
    "vector = [\"droughts1imputed.csv\", \"droughts2imputed.csv\", \"droughts3imputed.csv\", \"droughts4imputed.csv\",\"droughts5imputed.csv\" ]\n",
    "\n",
    "\n",
    "b=1\n",
    "for i in vector:\n",
    "    imputation1 =  pd.read_csv(i)\n",
    "    x = imputation1.groupby([\"Country\", \"Year\"])[\"Total.Affected\"].sum().reset_index()\n",
    "    dates = {\"Year\": lambda df: range(1970, 2020 + 1)}\n",
    "    r = x.complete(dates, by=[\"Country\"], sort=True).fillna({\"Total.Affected\": 0})\n",
    "    r.to_csv('Droughts'+ str(b)+ 'ReadyForMerging.csv')\n",
    "    b+=1\n"
   ]
  },
  {
   "cell_type": "code",
   "execution_count": 8,
   "id": "5e5bb768",
   "metadata": {},
   "outputs": [],
   "source": [
    "vector = [\"storm1imputed.csv\", \"storm2imputed.csv\", \"storm3imputed.csv\", \"storm4imputed.csv\",\"storm5imputed.csv\" ]\n",
    "\n",
    "\n",
    "b=1\n",
    "for i in vector:\n",
    "    imputation1 =  pd.read_csv(i)\n",
    "    x = imputation1.groupby([\"Country\", \"Year\"])[\"Total.Affected\"].sum().reset_index()\n",
    "    dates = {\"Year\": lambda df: range(1970, 2020 + 1)}\n",
    "    r = x.complete(dates, by=[\"Country\"], sort=True).fillna({\"Total.Affected\": 0})\n",
    "    r.to_csv('Storms'+ str(b)+ 'ReadyForMerging.csv')\n",
    "    b+=1"
   ]
  },
  {
   "cell_type": "code",
   "execution_count": 29,
   "id": "524ba292",
   "metadata": {},
   "outputs": [],
   "source": [
    "imputation1 = pd.read_csv(\"wildfire1imputed.csv\")\n",
    "\n",
    "x = imputation1.groupby([\"Country\", \"Year\"])[\"Total.Affected\"].sum().reset_index()\n",
    "dates = {\"Year\": lambda df: range(1970, 2020 + 1)}\n",
    "r = x.complete(dates, by=[\"Country\"], sort=True).fillna({\"Total.Affected\": 0})\n",
    "\n",
    "r.to_csv('WildfireReadyForMerging.csv')\n"
   ]
  },
  {
   "cell_type": "code",
   "execution_count": 26,
   "id": "9797b63a",
   "metadata": {},
   "outputs": [],
   "source": [
    "imputation1 = pd.read_csv(\"extreme_temp1imputed.csv\")\n",
    "\n",
    "x = imputation1.groupby([\"Country\", \"Year\"])[\"Total.Affected\"].sum().reset_index()\n",
    "dates = {\"Year\": lambda df: range(1970, 2020 + 1)}\n",
    "r = x.complete(dates, by=[\"Country\"], sort=True).fillna({\"Total.Affected\": 0})\n",
    "\n",
    "r.to_csv('extreme_tempForMerging.csv')"
   ]
  },
  {
   "cell_type": "code",
   "execution_count": 31,
   "id": "63b5d7c4",
   "metadata": {
    "scrolled": true
   },
   "outputs": [
    {
     "data": {
      "text/plain": [
       "Afghanistan                               51\n",
       "Bolivia (Plurinational State of)          51\n",
       "Uganda                                    51\n",
       "Tajikistan                                51\n",
       "Sri Lanka                                 51\n",
       "Rwanda                                    51\n",
       "Philippines (the)                         51\n",
       "Peru                                      51\n",
       "Papua New Guinea                          51\n",
       "Myanmar                                   51\n",
       "Kenya                                     51\n",
       "Iran (Islamic Republic of)                51\n",
       "Indonesia                                 51\n",
       "Guatemala                                 51\n",
       "Ethiopia                                  51\n",
       "Ecuador                                   51\n",
       "Congo (the Democratic Republic of the)    51\n",
       "Colombia                                  51\n",
       "China                                     51\n",
       "Viet Nam                                  51\n",
       "Name: Country, dtype: int64"
      ]
     },
     "execution_count": 31,
     "metadata": {},
     "output_type": "execute_result"
    }
   ],
   "source": [
    "imputation1 = pd.read_csv(\"landslide1imputed.csv\")\n",
    "\n",
    "x = imputation1.groupby([\"Country\", \"Year\"])[\"Total.Affected\"].sum().reset_index()\n",
    "dates = {\"Year\": lambda df: range(1970, 2020 + 1)}\n",
    "r = x.complete(dates, by=[\"Country\"], sort=True).fillna({\"Total.Affected\": 0})\n",
    "\n",
    "r.to_csv('LandslideForMerging.csv')\n"
   ]
  },
  {
   "cell_type": "code",
   "execution_count": null,
   "id": "5bd35c80",
   "metadata": {},
   "outputs": [],
   "source": [
    "#processing rest of Floods\n",
    "\n",
    "vector = [\"floods1imputed.csv\", \"floods2imputed.csv\", \"floods3imputed.csv\", \"floods4imputed.csv\",\"floods5imputed.csv\"]\n",
    "\n",
    "b=1\n",
    "for i in vector:\n",
    "    imputation1 =  pd.read_csv(i)\n",
    "    x = imputation1.groupby([\"Country\", \"Year\"])[\"Total.Affected\"].sum().reset_index()\n",
    "    dates = {\"Year\": lambda df: range(1970, 2020 + 1)}\n",
    "    r = x.complete(dates, by=[\"Country\"], sort=True).fillna({\"Total.Affected\": 0})\n",
    "    r.to_csv('Floods'+ str(b)+ 'ReadyForMerging.csv')\n",
    "    b+=1\n"
   ]
  }
 ],
 "metadata": {
  "kernelspec": {
   "display_name": "Python 3 (ipykernel)",
   "language": "python",
   "name": "python3"
  },
  "language_info": {
   "codemirror_mode": {
    "name": "ipython",
    "version": 3
   },
   "file_extension": ".py",
   "mimetype": "text/x-python",
   "name": "python",
   "nbconvert_exporter": "python",
   "pygments_lexer": "ipython3",
   "version": "3.11.5"
  }
 },
 "nbformat": 4,
 "nbformat_minor": 5
}
